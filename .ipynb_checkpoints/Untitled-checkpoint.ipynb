{
 "cells": [
  {
   "cell_type": "code",
   "execution_count": null,
   "id": "bbf39315-bbeb-4de4-b379-3146ac8cb78e",
   "metadata": {},
   "outputs": [],
   "source": []
  }
 ],
 "metadata": {
  "kernelspec": {
   "display_name": "",
   "name": ""
  },
  "language_info": {
   "name": ""
  }
 },
 "nbformat": 4,
 "nbformat_minor": 5
}
